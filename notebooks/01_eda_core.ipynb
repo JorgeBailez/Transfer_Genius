{
 "cells": [
  {
   "cell_type": "markdown",
   "metadata": {},
   "source": [
    "# EDA La Liga Dataset\n",
    "\n",
    "Este notebook realiza un análisis exploratorio del dataset longitudinal generado a partir de FBref y Transfermarkt.\\n",
    "\n",
    "Se presentan al menos diez insights relevantes, apoyados con tablas y gráficos generados con **matplotlib** (no se utiliza seaborn)."
   ]
  },
  {
   "cell_type": "code",
   "execution_count": null,
   "metadata": {},
   "outputs": [],
   "source": [
    "import pandas as pd\n",
    "import matplotlib.pyplot as plt\n",
    "from pathlib import Path\n",
    "\n",
    "# Cargar el dataset longitudinal generado por el pipeline\n",
    "data_path = Path('data/final/fbref_tm_laliga_longitudinal.csv')\n",
    "if not data_path.exists():\n",
    "    raise FileNotFoundError('No se encuentra el dataset final. Ejecuta el pipeline previamente.')\n",
    "df = pd.read_csv(data_path)\n",
    "df.head()"
   ]
  },
  {
   "cell_type": "markdown",
   "metadata": {},
   "source": [
    "## 1. Distribución del valor de mercado por posición\n",
    "\n",
    "Boxplot de `mv_millions` para cada posición (filtrando valores extremos si fuera necesario)."
   ]
  },
  {
   "cell_type": "code",
   "execution_count": null,
   "metadata": {},
   "outputs": [],
   "source": [
    "positions = df['position'].dropna().unique()\n",
    "fig, ax = plt.subplots(figsize=(10, 6))\n",
    "df.boxplot(column='mv_millions', by='position', ax=ax, vert=False)\n",
    "ax.set_xlabel('Valor de mercado (millones €)')\n",
    "ax.set_ylabel('Posición')\n",
    "ax.set_title('Distribución de mv_millions por posición')\n",
    "plt.suptitle('')\n",
    "plt.show()"
   ]
  },
  {
   "cell_type": "markdown",
   "metadata": {},
   "source": [
    "## 2. Evolución temporal del valor medio por club\n",
    "\n",
    "Gráfico de líneas que muestra la evolución del valor medio de mercado por club a lo largo de las temporadas."
   ]
  },
  {
   "cell_type": "code",
   "execution_count": null,
   "metadata": {},
   "outputs": [],
   "source": [
    "# Calcular el valor medio por club y temporada\n",
    "club_mean = df.groupby(['Season', 'club'])['mv_millions'].mean().reset_index()\n",
    "# Seleccionar algunos clubes de ejemplo (los 5 con mayor valor medio global)\n",
    "top_clubs = club_mean.groupby('club')['mv_millions'].mean().nlargest(5).index\n",
    "fig, ax = plt.subplots(figsize=(10, 6))\n",
    "for club in top_clubs:\n",
    "    sub = club_mean[club_mean['club'] == club]\n",
    "    ax.plot(sub['Season'], sub['mv_millions'], label=club)\n",
    "ax.set_xlabel('Temporada')\n",
    "ax.set_ylabel('Valor medio (millones €)')\n",
    "ax.set_title('Evolución del valor medio por club (top 5)')\n",
    "ax.legend()\n",
    "plt.xticks(rotation=45)\n",
    "plt.show()"
   ]
  },
  {
   "cell_type": "markdown",
   "metadata": {},
   "source": [
    "## 3. Top 10 jugadores por crecimiento de valor inter-temporadas\n",
    "\n",
    "Se calcula el cambio de valor de mercado de cada jugador entre temporadas consecutivas y se listan los 10 con mayor incremento."
   ]
  },
  {
   "cell_type": "code",
   "execution_count": null,
   "metadata": {},
   "outputs": [],
   "source": [
    "# Ordenar por jugador y temporada para calcular diferencias\n",
    "df_sorted = df.sort_values(['Player', 'Season'])\n",
    "df_sorted['mv_shift'] = df_sorted.groupby('Player')['mv_millions'].shift(1)\n",
    "df_sorted['mv_change'] = df_sorted['mv_millions'] - df_sorted['mv_shift']\n",
    "top_growth = df_sorted.nlargest(10, 'mv_change')[['Player', 'Season', 'mv_change']]\n",
    "top_growth"
   ]
  },
  {
   "cell_type": "markdown",
   "metadata": {},
   "source": [
    "## 4. Relación edad vs. valor de mercado\n",
    "\n",
    "Se agrupan los jugadores por rangos de edad y se muestra el valor medio en cada rango."
   ]
  },
  {
   "cell_type": "code",
   "execution_count": null,
   "metadata": {},
   "outputs": [],
   "source": [
    "# Crear tramos de edad\n",
    "bins = [15, 20, 25, 30, 35, 40, 45]\n",
    "labels = ['15-20', '20-25', '25-30', '30-35', '35-40', '40-45']\n",
    "df['age_group'] = pd.cut(df['Age'], bins=bins, labels=labels, right=False)\n",
    "age_mean = df.groupby('age_group')['mv_millions'].mean()\n",
    "age_mean.plot(kind='bar', figsize=(8, 5))\n",
    "plt.xlabel('Rango de edad')\n",
    "plt.ylabel('Valor medio (millones €)')\n",
    "plt.title('Edad vs. valor de mercado')\n",
    "plt.show()"
   ]
  },
  {
   "cell_type": "markdown",
   "metadata": {},
   "source": [
    "## 5. Top nacionalidades por valor medio\n",
    "\n",
    "Se agrupan los jugadores por su principal nacionalidad y se muestran las nacionalidades con mayor valor medio."
   ]
  },
  {
   "cell_type": "code",
   "execution_count": null,
   "metadata": {},
   "outputs": [],
   "source": [
    "# Extraer la primera nacionalidad si hay varias\n",
    "df['main_nat'] = df['nationality'].apply(lambda x: x[0] if isinstance(x, list) and x else None)\n",
    "nat_mean = df.groupby('main_nat')['mv_millions'].mean().dropna().nlargest(10)\n",
    "nat_mean.plot(kind='bar', figsize=(8, 5))\n",
    "plt.xlabel('Nacionalidad')\n",
    "plt.ylabel('Valor medio (millones €)')\n",
    "plt.title('Nacionalidades con mayor valor medio (Top 10)')\n",
    "plt.show()"
   ]
  },
  {
   "cell_type": "markdown",
   "metadata": {},
   "source": [
    "## 6. Outliers de valor vs. minutos jugados\n",
    "\n",
    "Si el dataset incluye minutos o partidos jugados, se pueden detectar jugadores cuyo valor sea demasiado alto respecto a su tiempo en el campo."
   ]
  },
  {
   "cell_type": "code",
   "execution_count": null,
   "metadata": {},
   "outputs": [],
   "source": [
    "# Suponiendo que existe una columna 'Minutes' en df\n",
    "if 'Minutes' in df.columns:\n",
    "    df['value_per_min'] = df['mv_millions'] / df['Minutes']\n",
    "    outliers = df.nlargest(10, 'value_per_min')[['Player', 'Season', 'mv_millions', 'Minutes', 'value_per_min']]\n",
    "    outliers"
   ]
  },
  {
   "cell_type": "markdown",
   "metadata": {},
   "source": [
    "## 7. Mapa de correlaciones de variables numéricas\n",
    "\n",
    "Se calcula la matriz de correlación de variables numéricas y se muestra como un mapa de calor."
   ]
  },
  {
   "cell_type": "code",
   "execution_count": null,
   "metadata": {},
   "outputs": [],
   "source": [
    "num_cols = df.select_dtypes(include='number').columns\n",
    "corr = df[num_cols].corr()\n",
    "fig, ax = plt.subplots(figsize=(8, 6))\n",
    "cax = ax.matshow(corr, cmap='viridis')\n",
    "plt.xticks(range(len(num_cols)), num_cols, rotation=90)\n",
    "plt.yticks(range(len(num_cols)), num_cols)\n",
    "plt.colorbar(cax)\n",
    "plt.title('Matriz de correlación')\n",
    "plt.show()"
   ]
  },
  {
   "cell_type": "markdown",
   "metadata": {},
   "source": [
    "## 8. Clubs con mayor revalorización neta por temporada\n",
    "\n",
    "Se calcula la diferencia de valor total del club entre temporadas consecutivas."
   ]
  },
  {
   "cell_type": "code",
   "execution_count": null,
   "metadata": {},
   "outputs": [],
   "source": [
    "club_sum = df.groupby(['Season', 'club'])['mv_millions'].sum().reset_index()\n",
    "club_sum_sorted = club_sum.sort_values(['club', 'Season'])\n",
    "club_sum_sorted['sum_prev'] = club_sum_sorted.groupby('club')['mv_millions'].shift(1)\n",
    "club_sum_sorted['delta'] = club_sum_sorted['mv_millions'] - club_sum_sorted['sum_prev']\n",
    "top_delta = club_sum_sorted.nlargest(10, 'delta')[['Season', 'club', 'delta']]\n",
    "top_delta"
   ]
  },
  {
   "cell_type": "markdown",
   "metadata": {},
   "source": [
    "## 9. Posiciones con mayor volatilidad de valor\n",
    "\n",
    "Se calcula la desviación estándar del valor de mercado por posición."
   ]
  },
  {
   "cell_type": "code",
   "execution_count": null,
   "metadata": {},
   "outputs": [],
   "source": [
    "volatility = df.groupby('position')['mv_millions'].std().dropna().nlargest(10)\n",
    "volatility.plot(kind='barh', figsize=(8, 5))\n",
    "plt.xlabel('Desviación estándar (millones €)')\n",
    "plt.ylabel('Posición')\n",
    "plt.title('Volatilidad del valor por posición (Top 10)')\n",
    "plt.show()"
   ]
  },
  {
   "cell_type": "markdown",
   "metadata": {},
   "source": [
    "## 10. Calidad de datos: % de nulos por columna clave\n",
    "\n",
    "Se calcula el porcentaje de valores nulos en columnas clave y se evalúa su impacto potencial."
   ]
  },
  {
   "cell_type": "code",
   "execution_count": null,
   "metadata": {},
   "outputs": [],
   "source": [
    "cols_to_check = ['mv_millions', 'position', 'Age', 'Nation', 'club', 'Season']\n",
    "null_pct = df[cols_to_check].isna().mean() * 100\n+null_pct.plot(kind='bar', figsize=(8,5))\n+plt.ylabel('% de valores nulos')\n+plt.title('Porcentaje de nulos por columna clave')\n+plt.show()"
   ]
  },
  {
   "cell_type": "markdown",
   "metadata": {},
   "source": [
    "## Conclusiones y acciones\n",
    "\n",
    "Aquí se resumen los principales hallazgos del análisis y se proponen acciones futuras, incluyendo qué variables podrían ser más relevantes en un modelo de predicción de revalorización."
   ]
  }
 ],
 "metadata": {
  "kernelspec": {
   "display_name": "Python 3",
   "language": "python",
   "name": "python3"
  },
  "language_info": {
   "file_extension": ".py",
   "mimetype": "text/x-python",
   "name": "python",
   "version": "3.10"
  }
 },
 "nbformat": 4,
 "nbformat_minor": 5
}